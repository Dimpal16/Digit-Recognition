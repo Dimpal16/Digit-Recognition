{
  "nbformat": 4,
  "nbformat_minor": 0,
  "metadata": {
    "colab": {
      "name": "digit_recognition.ipynb",
      "provenance": [],
      "collapsed_sections": [],
      "toc_visible": true,
      "authorship_tag": "ABX9TyPaqbpD1CT12c9K/4FUML6D",
      "include_colab_link": true
    },
    "kernelspec": {
      "name": "python3",
      "display_name": "Python 3"
    },
    "accelerator": "GPU"
  },
  "cells": [
    {
      "cell_type": "markdown",
      "metadata": {
        "id": "view-in-github",
        "colab_type": "text"
      },
      "source": [
        "<a href=\"https://colab.research.google.com/github/Dimpal16/Digit-Recognition/blob/master/digit_recognition.ipynb\" target=\"_parent\"><img src=\"https://colab.research.google.com/assets/colab-badge.svg\" alt=\"Open In Colab\"/></a>"
      ]
    },
    {
      "cell_type": "code",
      "metadata": {
        "id": "yvfIpJ0JjRmv",
        "colab_type": "code",
        "colab": {}
      },
      "source": [
        "import numpy as np\n",
        "import scipy.special\n",
        "import pandas as pd\n",
        "import matplotlib.pyplot as plt\n",
        "import os"
      ],
      "execution_count": 0,
      "outputs": []
    },
    {
      "cell_type": "code",
      "metadata": {
        "id": "n67MEBHKjWaK",
        "colab_type": "code",
        "colab": {}
      },
      "source": [
        "class neuralNetwork:\n",
        "  def __init__(self, i_nodes, h_nodes, o_nodes, lr):\n",
        "    self.i_nodes = i_nodes\n",
        "    self.h_nodes = h_nodes\n",
        "    self.o_nodes = o_nodes\n",
        "    self.lr = lr\n",
        "\n",
        "    #Try ReLU and different activation fuantion and compare the output\n",
        "    self.activation_function = lambda x: scipy.special.expit(x)\n",
        "\n",
        "    self.W_ih = np.random.normal(0.0, pow(self.i_nodes, -0.5), (self.h_nodes, self.i_nodes)) \n",
        "    self.W_ho = np.random.normal(0.0, pow(self.h_nodes, -0.5), (self.o_nodes, self.h_nodes))\n",
        "    pass\n",
        "\n",
        "  def train(self, inputs, targets):\n",
        "    inputs = np.array(inputs, ndmin=2).T\n",
        "    targets = np.array(targets, ndmin=2).T\n",
        "\n",
        "    hidden_input = np.dot(self.W_ih, inputs)\n",
        "    hidden_output = self.activation_function(hidden_input)\n",
        "\n",
        "    final_input = np.dot(self.W_ho, hidden_output)\n",
        "    final_output = self.activation_function(final_input)\n",
        "\n",
        "    output_errors = targets - final_output\n",
        "    hidden_errors = np.dot(self.W_ho.T, output_errors)\n",
        "\n",
        "    self.W_ho += self.lr* np.dot((output_errors*final_output*(1-final_output)), hidden_output.transpose()) \n",
        "    self.W_ih += self.lr* np.dot((hidden_errors*hidden_output*(1-hidden_output)), inputs.transpose())\n",
        "    pass\n",
        "\n",
        "  def test(self, inputs):\n",
        "    inputs = np.array(inputs, ndmin = 2).T\n",
        "\n",
        "    hidden_input = np.dot(self.W_ih, inputs)\n",
        "    hidden_output = self.activation_function(hidden_input)\n",
        "\n",
        "    final_input = np.dot(self.W_ho, hidden_output)\n",
        "    final_output = self.activation_function(final_input)\n",
        "    \n",
        "    return final_output\n"
      ],
      "execution_count": 0,
      "outputs": []
    },
    {
      "cell_type": "code",
      "metadata": {
        "id": "zRhZCb_1lgIS",
        "colab_type": "code",
        "colab": {}
      },
      "source": [
        "input_nodes = 784\n",
        "hidden_nodes =100\n",
        "output_nodes = 10\n",
        "\n",
        "lr = 0.5\n",
        "\n",
        "nn = neuralNetwork(input_nodes, hidden_nodes, output_nodes, lr)"
      ],
      "execution_count": 0,
      "outputs": []
    },
    {
      "cell_type": "code",
      "metadata": {
        "id": "wl-B8ulNYNMs",
        "colab_type": "code",
        "colab": {}
      },
      "source": [
        "train_df = pd.read_csv(os.getcwd() + '/mnist_train_small.csv')\n",
        "test_df = pd.read_csv(os.getcwd() + '/mnist_test.csv')"
      ],
      "execution_count": 0,
      "outputs": []
    },
    {
      "cell_type": "markdown",
      "metadata": {
        "id": "cSsZhjSfkeK5",
        "colab_type": "text"
      },
      "source": [
        "type(data)   --> pandas.DataFrame<br>\n",
        "data.dtypes  --> inferred type of the cols<br>\n",
        "data.index   --> row labels of the dataFrame<br>\n",
        "data.shape   --> returns (rows, cols)<br>\n",
        "data.values  --> converts the dataFrame into an ndarray<br>\n",
        "data.info() <br>\n",
        "pd.isnull(data).any() --> finds null values if any<br>\n",
        "data.columns  --> column lables"
      ]
    },
    {
      "cell_type": "code",
      "metadata": {
        "id": "PbcddSengvBc",
        "colab_type": "code",
        "outputId": "a85d565a-f18b-4c0a-8e61-e4908b99e2ef",
        "colab": {
          "base_uri": "https://localhost:8080/",
          "height": 282
        }
      },
      "source": [
        "#Visualizing the data\n",
        "x = train_df.iloc[0]         #Change the index inside .iloc to see other images\n",
        "x = np.transpose(x[1:])\n",
        "x = np.asfarray(x).reshape(28,28)\n",
        "\n",
        "plt.imshow(x, cmap='gray')"
      ],
      "execution_count": 99,
      "outputs": [
        {
          "output_type": "execute_result",
          "data": {
            "text/plain": [
              "<matplotlib.image.AxesImage at 0x7f71607e54a8>"
            ]
          },
          "metadata": {
            "tags": []
          },
          "execution_count": 99
        },
        {
          "output_type": "display_data",
          "data": {
            "image/png": "[encoded data removed]",
            "text/plain": [
              "<Figure size 432x288 with 1 Axes>"
            ]
          },
          "metadata": {
            "tags": []
          }
        }
      ]
    },
    {
      "cell_type": "code",
      "metadata": {
        "id": "Ety28f8wmZLf",
        "colab_type": "code",
        "colab": {}
      },
      "source": [
        "def training(train_df):\n",
        "  train_df = np.asfarray(train_df)\n",
        "  for row in train_df:\n",
        "    all_values = np.asarray(row)\n",
        "    scaled_input = np.asfarray((row[1:]/255)*0.99 + 0.01)\n",
        "    target_value = np.zeros(output_nodes) + 0.01\n",
        "    target_value[int(all_values[0])] = 0.99\n",
        "\n",
        "    nn.train(scaled_input, target_value)\n",
        "    pass\n"
      ],
      "execution_count": 0,
      "outputs": []
    },
    {
      "cell_type": "code",
      "metadata": {
        "id": "sdIaBjtVfueZ",
        "colab_type": "code",
        "colab": {}
      },
      "source": [
        "#testing the results\n",
        "def testing(test_df):\n",
        "  test_df = np.asarray(test_df)\n",
        "  score = 0\n",
        "  total = 0\n",
        "  for i in range(len(test_df)):\n",
        "    x = test_df[i]\n",
        "    output = nn.test(x[1:])\n",
        "    pred_value = np.argmax(output)\n",
        "    actual_value = x[0]\n",
        "    total +=1\n",
        "    if pred_value == actual_value:\n",
        "      score +=1 \n",
        "    pass \n"
      ],
      "execution_count": 0,
      "outputs": []
    },
    {
      "cell_type": "code",
      "metadata": {
        "id": "A2FtT8hfjIhw",
        "colab_type": "code",
        "colab": {}
      },
      "source": [
        "#Repeat the training several times against the data set --> each run is called an epoch\n",
        "\n",
        "#plot epoch vs. accuracy graph with different lr\n",
        "epoch = 3  \n",
        "\n",
        "for e in range(epoch):\n",
        "  training(train_df)\n",
        "  pass \n",
        "\n",
        "testing(test_df)"
      ],
      "execution_count": 0,
      "outputs": []
    },
    {
      "cell_type": "code",
      "metadata": {
        "id": "VRxUNsNOhEVL",
        "colab_type": "code",
        "colab": {
          "base_uri": "https://localhost:8080/",
          "height": 34
        },
        "outputId": "0ca6bebb-241f-4585-f776-6deaaf21ce1d"
      },
      "source": [
        "#Plot learning rate vs. accuracy graph and find which learning rate produces best reults\n",
        "accuracy = score/total *100\n",
        "print(accuracy)"
      ],
      "execution_count": 103,
      "outputs": [
        {
          "output_type": "stream",
          "text": [
            "91.92919291929192\n"
          ],
          "name": "stdout"
        }
      ]
    },
    {
      "cell_type": "code",
      "metadata": {
        "id": "HzeNtFTil612",
        "colab_type": "code",
        "colab": {}
      },
      "source": [
        "#try changing the hidden_nodes and see the accuracy "
      ],
      "execution_count": 0,
      "outputs": []
    },
    {
      "cell_type": "code",
      "metadata": {
        "id": "CKEckm0ZoRJ5",
        "colab_type": "code",
        "colab": {}
      },
      "source": [
        ""
      ],
      "execution_count": 0,
      "outputs": []
    }
  ]
}
